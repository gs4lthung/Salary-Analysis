{
 "cells": [
  {
   "cell_type": "code",
   "execution_count": 1,
   "id": "4d6ee038-8be1-442c-beed-696bf3fc0fd6",
   "metadata": {},
   "outputs": [],
   "source": [
    "import math as ma\n",
    "import pandas as pd\n",
    "import numpy as np\n",
    "import matplotlib.pyplot as plt\n",
    "import statistics as sta\n",
    "from scipy import stats\n",
    "import scipy.stats as st\n",
    "from scipy.stats import norm\n",
    "from sklearn.linear_model import LinearRegression\n",
    "from sklearn.model_selection import train_test_split"
   ]
  },
  {
   "cell_type": "code",
   "execution_count": 2,
   "id": "55d6f60f-d19e-421d-88c2-fe6782b3b164",
   "metadata": {},
   "outputs": [
    {
     "data": {
      "text/html": [
       "<div>\n",
       "<style scoped>\n",
       "    .dataframe tbody tr th:only-of-type {\n",
       "        vertical-align: middle;\n",
       "    }\n",
       "\n",
       "    .dataframe tbody tr th {\n",
       "        vertical-align: top;\n",
       "    }\n",
       "\n",
       "    .dataframe thead th {\n",
       "        text-align: right;\n",
       "    }\n",
       "</style>\n",
       "<table border=\"1\" class=\"dataframe\">\n",
       "  <thead>\n",
       "    <tr style=\"text-align: right;\">\n",
       "      <th></th>\n",
       "      <th>Age</th>\n",
       "      <th>Gender</th>\n",
       "      <th>Education Level</th>\n",
       "      <th>Job Title</th>\n",
       "      <th>Years of Experience</th>\n",
       "      <th>Salary</th>\n",
       "    </tr>\n",
       "  </thead>\n",
       "  <tbody>\n",
       "    <tr>\n",
       "      <th>0</th>\n",
       "      <td>32.0</td>\n",
       "      <td>Male</td>\n",
       "      <td>Bachelor's</td>\n",
       "      <td>Software Engineer</td>\n",
       "      <td>5.0</td>\n",
       "      <td>90000.0</td>\n",
       "    </tr>\n",
       "    <tr>\n",
       "      <th>1</th>\n",
       "      <td>28.0</td>\n",
       "      <td>Female</td>\n",
       "      <td>Master's</td>\n",
       "      <td>Data Analyst</td>\n",
       "      <td>3.0</td>\n",
       "      <td>65000.0</td>\n",
       "    </tr>\n",
       "    <tr>\n",
       "      <th>2</th>\n",
       "      <td>45.0</td>\n",
       "      <td>Male</td>\n",
       "      <td>PhD</td>\n",
       "      <td>Senior Manager</td>\n",
       "      <td>15.0</td>\n",
       "      <td>150000.0</td>\n",
       "    </tr>\n",
       "    <tr>\n",
       "      <th>3</th>\n",
       "      <td>36.0</td>\n",
       "      <td>Female</td>\n",
       "      <td>Bachelor's</td>\n",
       "      <td>Sales Associate</td>\n",
       "      <td>7.0</td>\n",
       "      <td>60000.0</td>\n",
       "    </tr>\n",
       "    <tr>\n",
       "      <th>4</th>\n",
       "      <td>52.0</td>\n",
       "      <td>Male</td>\n",
       "      <td>Master's</td>\n",
       "      <td>Director</td>\n",
       "      <td>20.0</td>\n",
       "      <td>200000.0</td>\n",
       "    </tr>\n",
       "  </tbody>\n",
       "</table>\n",
       "</div>"
      ],
      "text/plain": [
       "    Age  Gender Education Level          Job Title  Years of Experience  \\\n",
       "0  32.0    Male      Bachelor's  Software Engineer                  5.0   \n",
       "1  28.0  Female        Master's       Data Analyst                  3.0   \n",
       "2  45.0    Male             PhD     Senior Manager                 15.0   \n",
       "3  36.0  Female      Bachelor's    Sales Associate                  7.0   \n",
       "4  52.0    Male        Master's           Director                 20.0   \n",
       "\n",
       "     Salary  \n",
       "0   90000.0  \n",
       "1   65000.0  \n",
       "2  150000.0  \n",
       "3   60000.0  \n",
       "4  200000.0  "
      ]
     },
     "execution_count": 2,
     "metadata": {},
     "output_type": "execute_result"
    }
   ],
   "source": [
    "data = pd.read_csv('./Salary_Data.csv').fillna(0)\n",
    "data.head()"
   ]
  },
  {
   "cell_type": "code",
   "execution_count": 3,
   "id": "ef86c2c8-bd18-4d03-92d7-9e6f26721660",
   "metadata": {},
   "outputs": [],
   "source": [
    "df=pd.DataFrame(data)\n",
    "\n",
    "male=df[df[\"Gender\"]==\"Male\"]\n",
    "female=df[df[\"Gender\"]==\"Female\"]\n",
    "\n",
    "bachelor=df[df[\"Education Level\"]==\"Bachelor's\"]\n",
    "master=df[df['Education Level']== \"Master's\"]\n",
    "phd=df[df[\"Education Level\"]==\"PhD\"]\n",
    "\n",
    "se=df[df[\"Job Title\"]==\"Software Engineer\"]"
   ]
  },
  {
   "cell_type": "code",
   "execution_count": 4,
   "id": "a2f04556-49eb-421e-a5cd-d8da1f59454b",
   "metadata": {},
   "outputs": [],
   "source": [
    "confidence_level = 0.05\n",
    "z_alpha = stats.norm.ppf(1-confidence_level)\n",
    "z_alpha_div2 = stats.norm.ppf(1-confidence_level/2)"
   ]
  },
  {
   "cell_type": "code",
   "execution_count": 5,
   "id": "5bb1358c-69eb-41c5-80ff-f0d1857b7084",
   "metadata": {},
   "outputs": [
    {
     "name": "stdout",
     "output_type": "stream",
     "text": [
      "Software Engineering salary:  (113241.2786890471, 113245.20779743938) $\n",
      "Hypothesis testing of the mean salary who is a Bachelor not exceed 130.000\n",
      "z0 =  -2.479343595172345  < -z_alpha =  -1.6448536269514722\n",
      "==> Reject H0\n",
      "P-value:  0.006581222133193167\n"
     ]
    }
   ],
   "source": [
    "# 1. Test a hypothesis and construct a confidence interval for the mean of a population.\n",
    "    ## Confidence interval of the mean salary of employees who is Software Engineering\n",
    "print(\"Software Engineering salary: \", st.t.interval(confidence=0.95, df=len(se['Salary']), loc=np.mean(se['Salary'])), \"$\")\n",
    "    ## Hypothesis testing of the mean salary who is a SE not exceed 130000\n",
    "        ### H0 : mean=130.000 || H1 : mean < 130.0000\n",
    "z0=(np.mean(bachelor['Salary'])-130000)/(sta.stdev(se['Salary'])/ma.sqrt(len(se['Salary'])))\n",
    "print('Hypothesis testing of the mean salary who is a Bachelor not exceed 130.000')\n",
    "print(\"z0 = \", z0, \" < -z_alpha = \", -z_alpha) \n",
    "print(\"==> Reject H0\")\n",
    "\n",
    "print(\"P-value: \", norm.cdf(z0, 0, 1))\n",
    "\n",
    "# VUONG"
   ]
  },
  {
   "cell_type": "code",
   "execution_count": 6,
   "id": "9f77c085-8868-49a3-a521-a26685b481b8",
   "metadata": {},
   "outputs": [
    {
     "name": "stdout",
     "output_type": "stream",
     "text": [
      "Mean salary of new graduate employeee:  43633.68222891566\n",
      "Confidence interval of employees has salary >=100000$: \n",
      "0.017120166089211505 <= p <=  0.04312079776621018\n",
      "Hypothesis Testing: \n",
      "z0= -2.350407080326017  < z_alpha= -1.6448536269514722\n",
      "==> Reject H0\n",
      "P-value:  0.009376444602722639\n"
     ]
    }
   ],
   "source": [
    "# 2. Test a hypothesis and construct a confidence interval for the proportion of a population.\n",
    "    ## In the sample of new gradute employees, there are 20 employees who have salary >=100000. Find the confidence interval.\n",
    "new_gradute_employee=df[(df[\"Years of Experience\"] <= 1)][\"Salary\"]\n",
    "print(\"Mean salary of new graduate employeee: \",np.mean(new_gradute_employee))\n",
    "satisfy_employee=df[(df[\"Years of Experience\"] <= 1) & (df[\"Salary\"]>=100000)]\n",
    "p=len(satisfy_employee)/len(new_gradute_employee)\n",
    "upper_confidence=p+z_alpha_div2*ma.sqrt(p*(1-p)/len(new_gradute_employee))\n",
    "lower_confidence=p-z_alpha_div2*ma.sqrt(p*(1-p)/len(new_gradute_employee))\n",
    "print('Confidence interval of employees has salary >=100000$: ')\n",
    "print(lower_confidence, \"<= p <= \", upper_confidence)\n",
    "    ## Hypothesis Testing: The rate of 20 new gradute employees who have salary >=100000 not exceed 0.05. \n",
    "        ### H0 : p = 0.05 | H1 : p < 0.05\n",
    "z0=(len(satisfy_employee)-len(new_gradute_employee)*0.05)/ma.sqrt(len(new_gradute_employee)*0.05*(1-0.05))\n",
    "print('Hypothesis Testing: ')\n",
    "print(\"z0=\", z0, \" < z_alpha=\", -z_alpha)\n",
    "print(\"==> Reject H0\")\n",
    "\n",
    "print(\"P-value: \", norm.cdf(z0, 0, 1))\n",
    "# HUNG: "
   ]
  },
  {
   "cell_type": "code",
   "execution_count": 7,
   "id": "8f7df848-82bb-4cbe-9596-a469e6d15c26",
   "metadata": {},
   "outputs": [
    {
     "name": "stdout",
     "output_type": "stream",
     "text": [
      "Male employees's salary exceed Female's: ( 10942.572604524728 ,  15998.602792524587 )\n",
      "Hypothesis Testing: \n",
      "z0= 2.690738243786877  > z_alpha= 1.6448536269514722\n",
      "Reject to H0\n",
      "P-value:  0.0035647054545309143\n"
     ]
    }
   ],
   "source": [
    "# 3. Test a hypothesis and construct a confidence interval for the difference in means of two populations.\n",
    "    ## Confidence interval of the means of Salary of 2 sample Male and Female\n",
    "\n",
    "def upper_confidence(mean_a, mean_b, z_alpha_div2, stdev_a, stdev_b, len_a, len_b):\n",
    "    return mean_a-mean_b+z_alpha_div2*ma.sqrt(pow(stdev_a, 2)/len_a+pow(stdev_b, 2)/len_b)\n",
    "def lower_confidence(mean_a, mean_b, z_alpha_div2, stdev_a, stdev_b, len_a, len_b):\n",
    "    return mean_a-mean_b-z_alpha_div2*ma.sqrt(pow(stdev_a, 2)/len_a+pow(stdev_b, 2)/len_b)\n",
    "\n",
    "print(\"Male employees's salary exceed Female's: (\", lower_confidence(np.mean(male[\"Salary\"]), np.mean(female[\"Salary\"]), z_alpha_div2, sta.stdev(male[\"Salary\"]), sta.stdev(female[\"Salary\"]), len(male), len(female)), \", \", upper_confidence(np.mean(male[\"Salary\"]), np.mean(female[\"Salary\"]), z_alpha_div2, sta.stdev(male[\"Salary\"]), sta.stdev(female[\"Salary\"]), len(male), len(female)), ')')\n",
    "    ## H0 : mean_male_salary = mean_female_salary | H1 : mean_male_salary - mean_female_salary > 10000\n",
    "def z_zero(mean_a, mean_b, mean_zero, stdev_a, stdev_b, len_a, len_b):\n",
    "    return (mean_a-mean_b-mean_zero)/ma.sqrt(pow(stdev_a, 2)/len_a+pow(stdev_b, 2)/len_b)\n",
    "print('Hypothesis Testing: ')\n",
    "z0=z_zero(np.mean(male[\"Salary\"]), np.mean(female[\"Salary\"]), 10000, sta.stdev(male[\"Salary\"]), sta.stdev(female[\"Salary\"]), len(male), len(female))\n",
    "print(\"z0=\", z0, \" > z_alpha=\", z_alpha)\n",
    "print(\"Reject to H0\")\n",
    "\n",
    "print(\"P-value: \", 1-norm.cdf(z0, 0, 1))\n",
    "\n",
    "# TRIEU"
   ]
  },
  {
   "cell_type": "code",
   "execution_count": 8,
   "id": "ad2561c2-94c7-4e35-8925-511d11f0b35c",
   "metadata": {},
   "outputs": [
    {
     "name": "stdout",
     "output_type": "stream",
     "text": [
      "Confidence Interval: \n",
      "Male employees's years of experience(>=20) exceed Female's: ( 0.004545560261131893 ,  0.02413894200176104 )\n",
      "Hypothesis Testing: \n",
      "z0=  2.8239344833146616  > z_alpha 1.6448536269514722\n",
      "==> Reject to H0\n",
      "P-value:  0.0023719040388737733\n"
     ]
    }
   ],
   "source": [
    "# 4. Test a hypothesis and construct a confidence interval for the difference in proportions of two populations.\n",
    "    ## Confidence interval of the propotions of Years of Experience(>=20) of 2 sample Male and Female\n",
    "male_satisfy=df[(df[\"Gender\"]==\"Male\") & (df[\"Years of Experience\"]>=20)]\n",
    "female_satisfy=df[(df[\"Gender\"]==\"Female\") & (df[\"Years of Experience\"]>=20)]\n",
    "p1=len(male_satisfy)/len(male)\n",
    "p2=len(female_satisfy)/len(female)\n",
    "\n",
    "upper_confidence=p1-p2+z_alpha_div2*ma.sqrt(p1*(1-p1)/len(male)+p2*(1-p2)/len(female))\n",
    "lower_confidence=p1-p2-z_alpha_div2*ma.sqrt(p1*(1-p1)/len(male)+p2*(1-p2)/len(female))\n",
    "print('Confidence Interval: ')\n",
    "print(\"Male employees's years of experience(>=20) exceed Female's: (\", lower_confidence, \", \", upper_confidence, ')')\n",
    "    ## H0 : p1=p2 | H1 : p1 > p2\n",
    "p=(len(male_satisfy)+len(female_satisfy))/(len(male)+len(female))\n",
    "z0=(p1-p2)/ma.sqrt(p*(1-p)*(1/len(male)+1/len(female)))\n",
    "print('Hypothesis Testing: ')\n",
    "print(\"z0= \", z0, \" > z_alpha\", z_alpha)\n",
    "print(\"==> Reject to H0\")\n",
    "\n",
    "print(\"P-value: \", 1-norm.cdf(z0, 0, 1))\n",
    "\n",
    "# HOANG"
   ]
  },
  {
   "cell_type": "code",
   "execution_count": 9,
   "id": "bca5c21b-9ed4-49e6-9679-10a60631bf8f",
   "metadata": {},
   "outputs": [],
   "source": [
    "# 5a\n",
    "X = se[\"Years of Experience\"]\n",
    "Y = se[\"Salary\"]\n",
    "\n",
    "# HOAI"
   ]
  },
  {
   "cell_type": "code",
   "execution_count": 10,
   "id": "477ae58a-a18b-445d-b59c-ce90326513e4",
   "metadata": {},
   "outputs": [
    {
     "data": {
      "text/plain": [
       "[<matplotlib.lines.Line2D at 0x7f88effc1850>]"
      ]
     },
     "execution_count": 10,
     "metadata": {},
     "output_type": "execute_result"
    },
    {
     "data": {
      "image/png": "[encoded data removed]",
      "text/plain": [
       "<Figure size 640x480 with 1 Axes>"
      ]
     },
     "metadata": {},
     "output_type": "display_data"
    }
   ],
   "source": [
    "# 5b\n",
    "plt.scatter(X, Y)\n",
    "plt.xlabel(\"Years of Experience\")\n",
    "plt.ylabel(\"Salary\")\n",
    "plt.xlim(0, 15)\n",
    "   # Create a linear regression model\n",
    "model = LinearRegression()\n",
    "model.fit(np.array(X).reshape(-1, 1), Y)  # Reshape X to a 2D array\n",
    "    # Get the coefficients (slope and intercept)\n",
    "slope = model.coef_[0]\n",
    "intercept = model.intercept_\n",
    "    # Predicted line\n",
    "predicted_salary = slope * X + intercept\n",
    "\n",
    "    # Plot the line\n",
    "plt.plot(X, predicted_salary, color='red')"
   ]
  },
  {
   "cell_type": "code",
   "execution_count": 11,
   "id": "b03dee2f-4e96-4ba7-b7e6-c16be39927cf",
   "metadata": {},
   "outputs": [
    {
     "name": "stdout",
     "output_type": "stream",
     "text": [
      "Sample Correlation Coefficient (Pearson's r): 0.7959507884300214\n",
      "1.4574984180104114e-114\n"
     ]
    }
   ],
   "source": [
    "# 5c\n",
    "    # Sample correlation coefficient\n",
    "correlation_coefficient, p_value = stats.pearsonr(X, Y)\n",
    "\n",
    "    # Print the result\n",
    "print(\"Sample Correlation Coefficient (Pearson's r):\", correlation_coefficient)\n",
    "print(p_value)"
   ]
  },
  {
   "cell_type": "code",
   "execution_count": 12,
   "id": "7e5ea674-bfb7-4e48-abb7-2d95a9d9a1a9",
   "metadata": {},
   "outputs": [
    {
     "name": "stdout",
     "output_type": "stream",
     "text": [
      "Equation of Estimated Regression Line: Y = 36586.37803854488 + 17227.009186999458 X\n",
      "Predicted Salary for 20 Years of Experience: 381126.5617785341\n"
     ]
    }
   ],
   "source": [
    "# 5d\n",
    "    # Print the equation of the estimated regression line\n",
    "print(\"Equation of Estimated Regression Line: Y =\", intercept, \"+\", slope, \"X\")\n",
    "\n",
    "    # Predict a future value for Y (replace with your desired experience value)\n",
    "predicted_salary = intercept + slope * 20 # Assuming 20 years of experience\n",
    "\n",
    "print(\"Predicted Salary for 20 Years of Experience:\", predicted_salary)"
   ]
  },
  {
   "cell_type": "code",
   "execution_count": 13,
   "id": "f6d8af47-f540-4ec3-bc2d-d7d37cd084dc",
   "metadata": {},
   "outputs": [
    {
     "name": "stdout",
     "output_type": "stream",
     "text": [
      "The model is not statistically significant (p-value >= 0.05).\n",
      "0.6836976983579149\n"
     ]
    }
   ],
   "source": [
    "# 5e\n",
    "X_train, X_test, y_train, y_test = train_test_split(X, Y, test_size=0.2)\n",
    "\n",
    "# Reshape X_test to a 2D array\n",
    "X_test_reshaped = X_test.values.reshape(-1, 1)  # Reshape to a column vector\n",
    "\n",
    "# Use X_test_reshaped for prediction with model.score\n",
    "r_squared = model.score(X_test_reshaped, y_test)\n",
    "# Interpretation\n",
    "if r_squared < 0.05:  # Adjust significance level as needed\n",
    "  print(\"The model is statistically significant (p-value < 0.05).\")\n",
    "else:\n",
    "  print(\"The model is not statistically significant (p-value >= 0.05).\")\n",
    "\n",
    "print(r_squared)"
   ]
  },
  {
   "cell_type": "code",
   "execution_count": null,
   "id": "ab2f83d6-1b4a-47cd-bde2-29ca0718a634",
   "metadata": {},
   "outputs": [],
   "source": []
  },
  {
   "cell_type": "code",
   "execution_count": null,
   "id": "97e56fbc-0c7d-40f7-887a-9f6dbb84547a",
   "metadata": {},
   "outputs": [],
   "source": []
  },
  {
   "cell_type": "code",
   "execution_count": null,
   "id": "e7aa97a0-2ef9-4125-a93a-fcd30af7c685",
   "metadata": {},
   "outputs": [],
   "source": []
  }
 ],
 "metadata": {
  "kernelspec": {
   "display_name": "Python 3 (ipykernel)",
   "language": "python",
   "name": "python3"
  },
  "language_info": {
   "codemirror_mode": {
    "name": "ipython",
    "version": 3
   },
   "file_extension": ".py",
   "mimetype": "text/x-python",
   "name": "python",
   "nbconvert_exporter": "python",
   "pygments_lexer": "ipython3",
   "version": "3.12.2"
  }
 },
 "nbformat": 4,
 "nbformat_minor": 5
}
