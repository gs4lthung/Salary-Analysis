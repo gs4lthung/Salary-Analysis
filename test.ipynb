{
 "cells": [
  {
   "cell_type": "code",
   "execution_count": 13,
   "id": "00d771c4-4e40-4fa1-9a2f-4e983bc92809",
   "metadata": {},
   "outputs": [],
   "source": [
    "import math as ma\n",
    "import pandas as pd\n",
    "import numpy as np\n",
    "import matplotlib.pyplot as plt\n",
    "import statistics as sta\n",
    "from scipy import stats\n",
    "from sklearn.linear_model import LinearRegression"
   ]
  },
  {
   "cell_type": "code",
   "execution_count": 6,
   "id": "3e66fd1a-a169-4198-b613-ee2c315614d7",
   "metadata": {},
   "outputs": [
    {
     "data": {
      "text/html": [
       "<div>\n",
       "<style scoped>\n",
       "    .dataframe tbody tr th:only-of-type {\n",
       "        vertical-align: middle;\n",
       "    }\n",
       "\n",
       "    .dataframe tbody tr th {\n",
       "        vertical-align: top;\n",
       "    }\n",
       "\n",
       "    .dataframe thead th {\n",
       "        text-align: right;\n",
       "    }\n",
       "</style>\n",
       "<table border=\"1\" class=\"dataframe\">\n",
       "  <thead>\n",
       "    <tr style=\"text-align: right;\">\n",
       "      <th></th>\n",
       "      <th>Time Study</th>\n",
       "      <th>Marks</th>\n",
       "    </tr>\n",
       "  </thead>\n",
       "  <tbody>\n",
       "    <tr>\n",
       "      <th>0</th>\n",
       "      <td>4.508</td>\n",
       "      <td>19.202</td>\n",
       "    </tr>\n",
       "    <tr>\n",
       "      <th>1</th>\n",
       "      <td>0.096</td>\n",
       "      <td>7.734</td>\n",
       "    </tr>\n",
       "    <tr>\n",
       "      <th>2</th>\n",
       "      <td>3.133</td>\n",
       "      <td>13.811</td>\n",
       "    </tr>\n",
       "    <tr>\n",
       "      <th>3</th>\n",
       "      <td>7.909</td>\n",
       "      <td>53.018</td>\n",
       "    </tr>\n",
       "    <tr>\n",
       "      <th>4</th>\n",
       "      <td>7.811</td>\n",
       "      <td>55.299</td>\n",
       "    </tr>\n",
       "  </tbody>\n",
       "</table>\n",
       "</div>"
      ],
      "text/plain": [
       "   Time Study   Marks\n",
       "0       4.508  19.202\n",
       "1       0.096   7.734\n",
       "2       3.133  13.811\n",
       "3       7.909  53.018\n",
       "4       7.811  55.299"
      ]
     },
     "execution_count": 6,
     "metadata": {},
     "output_type": "execute_result"
    }
   ],
   "source": [
    "students = pd.read_csv('./Student_Marks.csv')\n",
    "students.head()"
   ]
  },
  {
   "cell_type": "code",
   "execution_count": 11,
   "id": "860e3feb-988d-4054-b26d-f696cd635a43",
   "metadata": {
    "scrolled": true
   },
   "outputs": [],
   "source": [
    "time_study, marks = students['Time Study'], students['Marks']\n",
    "data_length = len(students) #the length of the database\n",
    "\n",
    "def round_array(arr):\n",
    "    return [round(x, 2) for x in arr]\n",
    "\n",
    "time_study = round_array(time_study)\n",
    "marks = round_array(marks)\n"
   ]
  },
  {
   "cell_type": "code",
   "execution_count": 25,
   "id": "6b3c7a54-7cca-4c92-81c2-c62a6006d80b",
   "metadata": {},
   "outputs": [],
   "source": [
    "#1\n",
    "\n",
    "# \n",
    "confidence_level = 0.05\n",
    "\n",
    "def upper_confidence_bound(n, mean, stadard_deviation, z_alpha_divide_2):\n",
    "    return mean + z_alpha_divide_2 * stadard_deviation / ma.sqrt(n)\n",
    "\n",
    "def lower_confidence_bound(n, mean, stadard_deviation, z_alpha_divide_2):\n",
    "    return mean - z_alpha_divide_2 * stadard_deviation / ma.sqrt(n)\n",
    "z_alpha = stats.norm.ppf(1-confidence_level)\n",
    "z_alpha_divide_2 = stats.norm.ppf(1-confidence_level/2)\n"
   ]
  },
  {
   "cell_type": "code",
   "execution_count": 57,
   "id": "b0a0103b-13c2-4b28-b704-86127283e17f",
   "metadata": {},
   "outputs": [
    {
     "name": "stdout",
     "output_type": "stream",
     "text": [
      "3.6119801738236013  <= mean (Time Study) <= 4.542019826176398\n",
      "21.60955458142466  <= mean (Marks) <= 27.22544541857534\n"
     ]
    }
   ],
   "source": [
    "\n",
    "## Confidence interval for the mean of Marks & Time Study\n",
    "ts_length = len(time_study)\n",
    "ts_mean = sta.mean(time_study)\n",
    "ts_standard_deviation = sta.stdev(time_study)\n",
    "print(lower_confidence_bound(ts_length, ts_mean, ts_standard_deviation, z_alpha_divide_2), \" <= mean (Time Study) <=\", upper_confidence_bound(ts_length, ts_mean, ts_standard_deviation, z_alpha_divide_2))\n",
    "\n",
    "m_length = len(marks)\n",
    "m_mean = sta.mean(marks)\n",
    "m_standard_deviation = sta.stdev(marks)\n",
    "print(lower_confidence_bound(m_length, m_mean, m_standard_deviation, z_alpha_divide_2), \" <= mean (Marks) <=\", upper_confidence_bound(m_length, m_mean, m_standard_deviation, z_alpha_divide_2))"
   ]
  },
  {
   "cell_type": "code",
   "execution_count": 58,
   "id": "67c37e1d-dcc9-4213-b1ba-c10203609671",
   "metadata": {},
   "outputs": [
    {
     "name": "stdout",
     "output_type": "stream",
     "text": [
      "-3.8902572662444586 -1.6448536269514722\n",
      "Z0 < Z_alpha => Reject H0\n"
     ]
    }
   ],
   "source": [
    "#Hypothese testing\n",
    "\n",
    "    ##Test the time study rate not exceed 5 hours a day\n",
    "        ### H0: p=5 | H1:p<5\n",
    "p0 = 5\n",
    "Z0=(ts_mean - p0) / (ts_standard_deviation/ma.sqrt(m_length))\n",
    "print(Z0, -z_alpha)\n",
    "print(\"Z0 < Z_alpha => Reject H0\")"
   ]
  },
  {
   "cell_type": "code",
   "execution_count": 59,
   "id": "e99a4da8-4fee-4e85-9ea6-2b64b1ee81e3",
   "metadata": {},
   "outputs": [
    {
     "name": "stdout",
     "output_type": "stream",
     "text": [
      "-5.2926338291558235 1.6448536269514722\n",
      "Z0 < Z_alpha =>Fail Reject H0\n"
     ]
    }
   ],
   "source": [
    "#Hypothese testing\n",
    "\n",
    "    ##Test the mark rate at least 32 per exam (Max score = 60)\n",
    "        ### H0: p=32 | H1:p>32\n",
    "p0 = 32\n",
    "Z0=(m_mean - p0) / (m_standard_deviation/ma.sqrt(m_length))\n",
    "print(Z0, z_alpha)\n",
    "print(\"Z0 < - Z_alpha =>Fail Reject H0\")"
   ]
  },
  {
   "cell_type": "code",
   "execution_count": 68,
   "id": "5d496659-29ed-4c79-a428-104a96686d70",
   "metadata": {},
   "outputs": [
    {
     "name": "stdout",
     "output_type": "stream",
     "text": [
      "26.68487777080344 1.6448536269514722\n",
      "Z0 > Z_alpha =>Reject H0\n"
     ]
    }
   ],
   "source": [
    "#Tests on a Population Proportion.\n",
    "\n",
    "    ##Test at least 10% students have marks > 30. A sample of 100 students revealed that 42 students have marks > 30\n",
    "        ### H0: p=0.1 | H1: p>0.1\n",
    "p0=0.1\n",
    "x= 42\n",
    "Z0=(x-m_mean*p0)/ma.sqrt(m_mean*p0*(1-p0))\n",
    "print(Z0, z_alpha)\n",
    "print(\"Z0 > Z_alpha =>Reject H0\")"
   ]
  },
  {
   "cell_type": "code",
   "execution_count": 76,
   "id": "9bf8ee9b-5953-4d05-8101-adba91f94b2c",
   "metadata": {},
   "outputs": [
    {
     "name": "stdout",
     "output_type": "stream",
     "text": [
      "-3.8116676507157146 -1.6448536269514722\n",
      "Z0 < -Z_alpha => Reject H0\n"
     ]
    }
   ],
   "source": [
    "#Tests on a Population Proportion.\n",
    "\n",
    "    ##Test not exceed 80% students have time study > 6. A sample of 100 students revealed that 12 students have time study > 6\n",
    "        ### H0: p=0.8 | H1: p<0.18\n",
    "p0=0.8\n",
    "x= 12\n",
    "Z0=(x-m_mean*p0)/ma.sqrt(m_mean*p0*(1-p0))\n",
    "print(Z0, -z_alpha)\n",
    "print(\"Z0 < -Z_alpha => Reject H0\")"
   ]
  },
  {
   "cell_type": "code",
   "execution_count": 87,
   "id": "14861896-a05a-42f0-96ac-a3b836469e9d",
   "metadata": {},
   "outputs": [
    {
     "name": "stdout",
     "output_type": "stream",
     "text": [
      "-0.1447212837037068 <= proportion (Time Study) <= 0.3847212837037068\n"
     ]
    }
   ],
   "source": [
    "## Confidence interval for the proportion of Time Study\n",
    "\n",
    "def upper_confidence_bound(p_, mean, z_alpha):\n",
    "    return p_ + z_alpha * (ma.sqrt(p_ * (1 - p_) / mean))\n",
    "  \n",
    "def lower_confidence_bound(p_, mean, z_alpha):\n",
    "    return p_ - z_alpha * (ma.sqrt(p_ * (1 - p_) / mean))\n",
    "\n",
    "print(lower_confidence_bound(x/ts_length, ts_mean, z_alpha),\"<= proportion (Time Study) <=\",upper_confidence_bound(x/ts_length, ts_mean, z_alpha))"
   ]
  },
  {
   "cell_type": "code",
   "execution_count": 89,
   "id": "daada8f3-62d7-46f3-970c-41b1ec2cdab8",
   "metadata": {},
   "outputs": [
    {
     "name": "stdout",
     "output_type": "stream",
     "text": [
      "0.011829554663526476 <= proportion (Marks) <= 0.22817044533647352\n"
     ]
    }
   ],
   "source": [
    "## Confidence interval for the proportion of Marks\n",
    "\n",
    "print(lower_confidence_bound(x/m_length, m_mean, z_alpha),\"<= proportion (Marks) <=\",upper_confidence_bound(x/m_length, m_mean, z_alpha))"
   ]
  },
  {
   "cell_type": "code",
   "execution_count": 84,
   "id": "af3be91b-2b19-4c06-be6d-eeb2290585d2",
   "metadata": {},
   "outputs": [
    {
     "data": {
      "text/plain": [
       "Text(0, 0.5, 'Marks')"
      ]
     },
     "execution_count": 84,
     "metadata": {},
     "output_type": "execute_result"
    },
    {
     "data": {
      "image/png": "[encoded data removed]",
      "text/plain": [
       "<Figure size 640x480 with 1 Axes>"
      ]
     },
     "metadata": {},
     "output_type": "display_data"
    }
   ],
   "source": [
    "#5b\n",
    "plt.scatter(time_study, marks)\n",
    "plt.xlabel(\"Time Study\")\n",
    "plt.ylabel(\"Marks\")"
   ]
  },
  {
   "cell_type": "code",
   "execution_count": 80,
   "id": "2805bbee-39b2-495e-8eae-a11a3779b819",
   "metadata": {},
   "outputs": [
    {
     "data": {
      "text/plain": [
       "array([[1.        , 0.94231919],\n",
       "       [0.94231919, 1.        ]])"
      ]
     },
     "execution_count": 80,
     "metadata": {},
     "output_type": "execute_result"
    }
   ],
   "source": [
    "#5c\n",
    "np.corrcoef(time_study, marks)"
   ]
  },
  {
   "cell_type": "code",
   "execution_count": 81,
   "id": "dc63558c-badb-4e30-a266-7dea407b48d1",
   "metadata": {},
   "outputs": [
    {
     "name": "stdout",
     "output_type": "stream",
     "text": [
      "Regression Equation: Y = 1.22 + 5.69 * X\n",
      "Predicted Y at X = 6: 35.36\n"
     ]
    }
   ],
   "source": [
    "#5d\n",
    "# Example data (replace with your actual data)\n",
    "X = time_study  # Independent variable\n",
    "Y = marks  # Dependent variable\n",
    "\n",
    "# Create a linear regression model\n",
    "model = LinearRegression()\n",
    "model.fit(np.array(X).reshape(-1, 1), Y)  # Reshape X to a 2D array\n",
    "\n",
    "# Get the coefficients (intercept and slope)\n",
    "intercept = model.intercept_\n",
    "slope = model.coef_[0]\n",
    "\n",
    "# Equation of the regression line: Y = intercept + slope * X\n",
    "equation = f\"Y = {intercept:.2f} + {slope:.2f} * X\"\n",
    "\n",
    "# Predict a future value for Y (e.g., at X = 6)\n",
    "future_X = np.array([6]).reshape(-1, 1)\n",
    "predicted_Y = model.predict(future_X)[0]\n",
    "\n",
    "print(\"Regression Equation:\", equation)\n",
    "print(f\"Predicted Y at X = 6: {predicted_Y:.2f}\")"
   ]
  },
  {
   "cell_type": "code",
   "execution_count": null,
   "id": "471a9154-b3b1-48e6-8202-2b7bd7797198",
   "metadata": {},
   "outputs": [],
   "source": []
  }
 ],
 "metadata": {
  "kernelspec": {
   "display_name": "Python 3 (ipykernel)",
   "language": "python",
   "name": "python3"
  },
  "language_info": {
   "codemirror_mode": {
    "name": "ipython",
    "version": 3
   },
   "file_extension": ".py",
   "mimetype": "text/x-python",
   "name": "python",
   "nbconvert_exporter": "python",
   "pygments_lexer": "ipython3",
   "version": "3.12.2"
  }
 },
 "nbformat": 4,
 "nbformat_minor": 5
}
